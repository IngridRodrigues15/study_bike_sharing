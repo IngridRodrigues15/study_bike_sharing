{
  "nbformat": 4,
  "nbformat_minor": 0,
  "metadata": {
    "colab": {
      "name": "MachineLearningFoundation_Atividade1.ipynb",
      "provenance": [],
      "toc_visible": true,
      "authorship_tag": "ABX9TyP86+Hwt057+vE8avOItV7b",
      "include_colab_link": true
    },
    "kernelspec": {
      "name": "python3",
      "display_name": "Python 3"
    },
    "language_info": {
      "name": "python"
    }
  },
  "cells": [
    {
      "cell_type": "markdown",
      "metadata": {
        "id": "view-in-github",
        "colab_type": "text"
      },
      "source": [
        "<a href=\"https://colab.research.google.com/github/IngridRodrigues15/study_bike_sharing/blob/main/MachineLearningFoundation_Atividade1.ipynb\" target=\"_parent\"><img src=\"https://colab.research.google.com/assets/colab-badge.svg\" alt=\"Open In Colab\"/></a>"
      ]
    },
    {
      "cell_type": "code",
      "metadata": {
        "id": "UhgYSmDOG-Bc"
      },
      "source": [
        "import pandas as pd    \n",
        "import matplotlib.pyplot as plt \n",
        "import seaborn as sns\n",
        "\n",
        "%matplotlib inline "
      ],
      "execution_count": null,
      "outputs": []
    },
    {
      "cell_type": "code",
      "metadata": {
        "id": "XUP07cRRHm-D"
      },
      "source": [
        "hour = pd.read_csv(\"/content/hour.csv\")"
      ],
      "execution_count": null,
      "outputs": []
    },
    {
      "cell_type": "code",
      "metadata": {
        "id": "e5xVoD0JHnkw"
      },
      "source": [
        "day = pd.read_csv(\"/content/day.csv\")"
      ],
      "execution_count": null,
      "outputs": []
    },
    {
      "cell_type": "code",
      "metadata": {
        "colab": {
          "base_uri": "https://localhost:8080/"
        },
        "id": "zRM8rg92HwH9",
        "outputId": "b8eca8de-f6d8-4948-f2af-922029fc8514"
      },
      "source": [
        "hour.head"
      ],
      "execution_count": null,
      "outputs": [
        {
          "output_type": "execute_result",
          "data": {
            "text/plain": [
              "<bound method NDFrame.head of        instant      dteday  season  yr  ...  windspeed  casual  registered  cnt\n",
              "0            1  2011-01-01       1   0  ...     0.0000       3          13   16\n",
              "1            2  2011-01-01       1   0  ...     0.0000       8          32   40\n",
              "2            3  2011-01-01       1   0  ...     0.0000       5          27   32\n",
              "3            4  2011-01-01       1   0  ...     0.0000       3          10   13\n",
              "4            5  2011-01-01       1   0  ...     0.0000       0           1    1\n",
              "...        ...         ...     ...  ..  ...        ...     ...         ...  ...\n",
              "17374    17375  2012-12-31       1   1  ...     0.1642      11         108  119\n",
              "17375    17376  2012-12-31       1   1  ...     0.1642       8          81   89\n",
              "17376    17377  2012-12-31       1   1  ...     0.1642       7          83   90\n",
              "17377    17378  2012-12-31       1   1  ...     0.1343      13          48   61\n",
              "17378    17379  2012-12-31       1   1  ...     0.1343      12          37   49\n",
              "\n",
              "[17379 rows x 17 columns]>"
            ]
          },
          "metadata": {
            "tags": []
          },
          "execution_count": 5
        }
      ]
    },
    {
      "cell_type": "code",
      "metadata": {
        "colab": {
          "base_uri": "https://localhost:8080/"
        },
        "id": "mvhQK29lHy1x",
        "outputId": "fd58a6bc-7c74-45fe-f058-0a916de78aa4"
      },
      "source": [
        "day.head"
      ],
      "execution_count": null,
      "outputs": [
        {
          "output_type": "execute_result",
          "data": {
            "text/plain": [
              "<bound method NDFrame.head of      instant      dteday  season  yr  ...  windspeed  casual  registered   cnt\n",
              "0          1  2011-01-01       1   0  ...   0.160446     331         654   985\n",
              "1          2  2011-01-02       1   0  ...   0.248539     131         670   801\n",
              "2          3  2011-01-03       1   0  ...   0.248309     120        1229  1349\n",
              "3          4  2011-01-04       1   0  ...   0.160296     108        1454  1562\n",
              "4          5  2011-01-05       1   0  ...   0.186900      82        1518  1600\n",
              "..       ...         ...     ...  ..  ...        ...     ...         ...   ...\n",
              "726      727  2012-12-27       1   1  ...   0.350133     247        1867  2114\n",
              "727      728  2012-12-28       1   1  ...   0.155471     644        2451  3095\n",
              "728      729  2012-12-29       1   1  ...   0.124383     159        1182  1341\n",
              "729      730  2012-12-30       1   1  ...   0.350754     364        1432  1796\n",
              "730      731  2012-12-31       1   1  ...   0.154846     439        2290  2729\n",
              "\n",
              "[731 rows x 16 columns]>"
            ]
          },
          "metadata": {
            "tags": []
          },
          "execution_count": 6
        }
      ]
    },
    {
      "cell_type": "markdown",
      "metadata": {
        "id": "93mPBTySJ9fy"
      },
      "source": [
        "Dataset characteristics\n",
        "=========================================\t\n",
        "Both hour.csv and day.csv have the following fields, except hr which is not available in day.csv\n",
        "\t\n",
        "\t- instant: record index\n",
        "\t- dteday : date\n",
        "\t- season : season (1:springer, 2:summer, 3:fall, 4:winter)\n",
        "\t- yr : year (0: 2011, 1:2012)\n",
        "\t- mnth : month ( 1 to 12)\n",
        "\t- hr : hour (0 to 23)\n",
        "\t- holiday : weather day is holiday or not (extracted from http://dchr.dc.gov/page/holiday-schedule)\n",
        "\t- weekday : day of the week\n",
        "\t- workingday : if day is neither weekend nor holiday is 1, otherwise is 0.\n",
        "\t+ weathersit : \n",
        "\t\t- 1: Clear, Few clouds, Partly cloudy, Partly cloudy\n",
        "\t\t- 2: Mist + Cloudy, Mist + Broken clouds, Mist + Few clouds, Mist\n",
        "\t\t- 3: Light Snow, Light Rain + Thunderstorm + Scattered clouds, Light Rain + Scattered clouds\n",
        "\t\t- 4: Heavy Rain + Ice Pallets + Thunderstorm + Mist, Snow + Fog\n",
        "\t- temp : Normalized temperature in Celsius. The values are divided to 41 (max)\n",
        "\t- atemp: Normalized feeling temperature in Celsius. The values are divided to 50 (max)\n",
        "\t- hum: Normalized humidity. The values are divided to 100 (max)\n",
        "\t- windspeed: Normalized wind speed. The values are divided to 67 (max)\n",
        "\t- casual: count of casual users\n",
        "\t- registered: count of registered users\n",
        "\t- cnt: count of total rental bikes including both casual and registered\n",
        "\t"
      ]
    },
    {
      "cell_type": "markdown",
      "metadata": {
        "id": "x1h9XpuublaS"
      },
      "source": [
        "### Qual o dia da semana com mais demanda por bicicletas?"
      ]
    },
    {
      "cell_type": "code",
      "metadata": {
        "colab": {
          "base_uri": "https://localhost:8080/",
          "height": 429
        },
        "id": "kc4qMUNmbqHQ",
        "outputId": "3bf99d5b-2c37-477a-8996-9c83a57f52a9"
      },
      "source": [
        "day.groupby(['weekday'])['cnt'].mean().plot.bar()\n",
        "# day.groupby(['weekday'])['cnt'].sum()\n",
        "print(day.groupby(['weekday'])['cnt'].mean())"
      ],
      "execution_count": null,
      "outputs": [
        {
          "output_type": "stream",
          "text": [
            "weekday\n",
            "0    4228.828571\n",
            "1    4338.123810\n",
            "2    4510.663462\n",
            "3    4548.538462\n",
            "4    4667.259615\n",
            "5    4690.288462\n",
            "6    4550.542857\n",
            "Name: cnt, dtype: float64\n"
          ],
          "name": "stdout"
        },
        {
          "output_type": "display_data",
          "data": {
            "image/png": "[encoded data removed]",
            "text/plain": [
              "<Figure size 432x288 with 1 Axes>"
            ]
          },
          "metadata": {
            "tags": [],
            "needs_background": "light"
          }
        }
      ]
    },
    {
      "cell_type": "markdown",
      "metadata": {
        "id": "H5XNOyeBcFHo"
      },
      "source": [
        "Legenda:\n",
        "\n",
        "\n",
        "*  0: DOM\n",
        "*  1: SEG\n",
        "*  2: TER\n",
        "*  3: QUA\n",
        "*  4: QUI\n",
        "*  5: SEX\n",
        "*  6: SÁB\n",
        "\n",
        "Os dias com maior demanda por bicicletas são : \n",
        "\n",
        "*  5: SEX\n",
        "\n",
        "\n"
      ]
    },
    {
      "cell_type": "markdown",
      "metadata": {
        "id": "lwDNwHfQJEqK"
      },
      "source": [
        "\n",
        "### Qual a influência dos feriados na demanda por bicicletas?"
      ]
    },
    {
      "cell_type": "code",
      "metadata": {
        "id": "q6AZYZhOKIou",
        "colab": {
          "base_uri": "https://localhost:8080/"
        },
        "outputId": "f8895b7f-c51d-457c-e8b7-0d94500a6469"
      },
      "source": [
        "\n",
        "dias_uteis = day.query('holiday == \"0\"')\n",
        "dias_feriados = day.query('holiday == \"1\"')\n",
        "\n",
        "Total_dias_uteis = sum(dias_uteis['cnt'])\n",
        "print(Total_dias_uteis)\n",
        "\n",
        "Total_dias_feriados = sum(dias_feriados['cnt'])\n",
        "print(Total_dias_feriados)"
      ],
      "execution_count": null,
      "outputs": [
        {
          "output_type": "stream",
          "text": [
            "3214244\n",
            "78435\n"
          ],
          "name": "stdout"
        }
      ]
    },
    {
      "cell_type": "code",
      "metadata": {
        "colab": {
          "base_uri": "https://localhost:8080/",
          "height": 304
        },
        "id": "1Yf6IPwNY6c2",
        "outputId": "30c3a13a-9572-4594-f312-b815bcf31bff"
      },
      "source": [
        "\n",
        "day.groupby(['holiday'])['cnt'].agg('sum').plot.bar()\n",
        "\n"
      ],
      "execution_count": null,
      "outputs": [
        {
          "output_type": "execute_result",
          "data": {
            "text/plain": [
              "<matplotlib.axes._subplots.AxesSubplot at 0x7f298b68b050>"
            ]
          },
          "metadata": {
            "tags": []
          },
          "execution_count": 38
        },
        {
          "output_type": "display_data",
          "data": {
            "image/png": "[encoded data removed]",
            "text/plain": [
              "<Figure size 432x288 with 1 Axes>"
            ]
          },
          "metadata": {
            "tags": [],
            "needs_background": "light"
          }
        }
      ]
    },
    {
      "cell_type": "markdown",
      "metadata": {
        "id": "2PR7M-iZSd4J"
      },
      "source": [
        "Aqui podemos analisar que a demanda por bicicletas é maior em dias comuns do que em feriados\n",
        "\n"
      ]
    },
    {
      "cell_type": "code",
      "metadata": {
        "colab": {
          "base_uri": "https://localhost:8080/",
          "height": 293
        },
        "id": "7HYRfF-ofy4N",
        "outputId": "48654df3-29ce-475d-b094-925bc8ee9404"
      },
      "source": [
        "\n",
        "day.groupby(['holiday'])['cnt'].agg('mean').plot.bar()\n"
      ],
      "execution_count": null,
      "outputs": [
        {
          "output_type": "execute_result",
          "data": {
            "text/plain": [
              "<matplotlib.axes._subplots.AxesSubplot at 0x7f298b3da250>"
            ]
          },
          "metadata": {
            "tags": []
          },
          "execution_count": 49
        },
        {
          "output_type": "display_data",
          "data": {
            "image/png": "[encoded data removed]",
            "text/plain": [
              "<Figure size 432x288 with 1 Axes>"
            ]
          },
          "metadata": {
            "tags": [],
            "needs_background": "light"
          }
        }
      ]
    },
    {
      "cell_type": "markdown",
      "metadata": {
        "id": "mpI5OWtQe9n-"
      },
      "source": [
        "Comparar o dia da semana do feriado com a media dos outros dias "
      ]
    },
    {
      "cell_type": "code",
      "metadata": {
        "colab": {
          "base_uri": "https://localhost:8080/"
        },
        "id": "9mIyQ19WfY63",
        "outputId": "c2de311b-23ed-424b-81df-88e8d8f9a51d"
      },
      "source": [
        "day.groupby(['holiday','weekday'])['cnt'].agg('mean')\n"
      ],
      "execution_count": null,
      "outputs": [
        {
          "output_type": "execute_result",
          "data": {
            "text/plain": [
              "holiday  weekday\n",
              "0        0          4228.828571\n",
              "         1          4398.866667\n",
              "         2          4544.621359\n",
              "         3          4520.825243\n",
              "         4          4720.343137\n",
              "         5          4718.588235\n",
              "         6          4550.542857\n",
              "1        1          3973.666667\n",
              "         2          1013.000000\n",
              "         3          7403.000000\n",
              "         4          1960.000000\n",
              "         5          3247.000000\n",
              "Name: cnt, dtype: float64"
            ]
          },
          "metadata": {
            "tags": []
          },
          "execution_count": 51
        }
      ]
    },
    {
      "cell_type": "code",
      "metadata": {
        "colab": {
          "base_uri": "https://localhost:8080/",
          "height": 302
        },
        "id": "acw-YQnBhUO2",
        "outputId": "99ef6d46-eab7-47b8-887d-884cd5a404ff"
      },
      "source": [
        "\n",
        "dia_util = day.groupby(['holiday','weekday'])['cnt'].agg('mean')[0]\n",
        "# Dias uteis \n",
        "data_dias_uteis = {\n",
        "'feriado': ['0', '0', '0', '0', '0','0','0'],\n",
        "'dia_semana': ['Dom', 'Seg', 'Ter', 'Qua', 'Qui', 'Sex', 'Sab'],\n",
        "'total': [4228.828571, 4398.866667,4544.621359, 4520.825243,4720.343137,4718.588235,4550.542857]\n",
        "}\n",
        "\n",
        "df_dias_uteis = pd.DataFrame(data_dias_uteis, columns=['feriado','dia_semana','total'])\n",
        "\n",
        "#Feriado \n",
        "feriado = day.groupby(['holiday','weekday'])['cnt'].agg('mean')[1]\n",
        "data_feriado = {\n",
        "'feriado': ['1', '1', '1', '1', '1','1','1'],\n",
        "'dia_semana': ['Dom','Seg', 'Ter', 'Qua', 'Qui', 'Sex', 'Sab'],\n",
        "'total': [0, 3973.666667,1013.000000,7403.000000,1960.000000,3247.000000, 0]\n",
        "}\n",
        "\n",
        "df_feriado = pd.DataFrame(data_feriado, columns=['feriado','dia_semana','total'])\n",
        "df_feriado.head()\n",
        "\n",
        "\n",
        "df = pd.concat([df_feriado, df_dias_uteis])\n",
        "\n",
        "import seaborn as sns\n",
        "sns.set_theme(style=\"darkgrid\")\n",
        "\n",
        "# Plot the responses for different events and regions\n",
        "sns.lineplot(x=\"dia_semana\", y=\"total\",\n",
        "             hue=\"feriado\",\n",
        "             data=df)"
      ],
      "execution_count": null,
      "outputs": [
        {
          "output_type": "execute_result",
          "data": {
            "text/plain": [
              "<matplotlib.axes._subplots.AxesSubplot at 0x7f2987742e90>"
            ]
          },
          "metadata": {
            "tags": []
          },
          "execution_count": 188
        },
        {
          "output_type": "display_data",
          "data": {
            "image/png": "[encoded data removed]",
            "text/plain": [
              "<Figure size 432x288 with 1 Axes>"
            ]
          },
          "metadata": {
            "tags": []
          }
        }
      ]
    },
    {
      "cell_type": "markdown",
      "metadata": {
        "id": "TZB2cthLbPIe"
      },
      "source": [
        "###  Qual a estação do ano com mais demanda por bicicletas?"
      ]
    },
    {
      "cell_type": "code",
      "metadata": {
        "colab": {
          "base_uri": "https://localhost:8080/",
          "height": 304
        },
        "id": "I8YKSa2tSpnI",
        "outputId": "edb9261b-fc19-4b7e-c11f-30fb92f9000c"
      },
      "source": [
        "day.groupby(['season'])['cnt'].agg('sum').plot.bar()\n"
      ],
      "execution_count": null,
      "outputs": [
        {
          "output_type": "execute_result",
          "data": {
            "text/plain": [
              "<matplotlib.axes._subplots.AxesSubplot at 0x7f298b5833d0>"
            ]
          },
          "metadata": {
            "tags": []
          },
          "execution_count": 44
        },
        {
          "output_type": "display_data",
          "data": {
            "image/png": "[encoded data removed]",
            "text/plain": [
              "<Figure size 432x288 with 1 Axes>"
            ]
          },
          "metadata": {
            "tags": [],
            "needs_background": "light"
          }
        }
      ]
    },
    {
      "cell_type": "markdown",
      "metadata": {
        "id": "0xNOLzxcTFdf"
      },
      "source": [
        "A estação com maior demanda de alguel de bicicletas foi : \n",
        "\n",
        "*   3:Outono\n",
        "*   2:Verão\n",
        "*   4:Inverno\n",
        "*   1:Primavera\n"
      ]
    },
    {
      "cell_type": "markdown",
      "metadata": {
        "id": "Jijvu1xDbUbE"
      },
      "source": [
        "### Qual o turno do dia (manhã, tarde ou noite) com mais demanda por bicicletas?"
      ]
    },
    {
      "cell_type": "code",
      "metadata": {
        "colab": {
          "base_uri": "https://localhost:8080/",
          "height": 331
        },
        "id": "lIJZ7EI5zSJc",
        "outputId": "a6f9817e-041b-44a7-bec1-a5a32b3e8d87"
      },
      "source": [
        "manha = [5,6,7,8,9,10,11,12]\n",
        "tarde = [13,14,15,16,17,18]\n",
        "noite = [19,20,21,22,23,24,0,1,2,3,4]\n",
        "\n",
        "def periodo(hora):\n",
        "  if hora in manha:\n",
        "    return \"Manha\"\n",
        "  elif hora in tarde:\n",
        "    return \"Tarde\"\n",
        "  else:\n",
        "    return \"Noite\"\n",
        "\n",
        "hour['periodo'] = hour.apply(lambda x: periodo(x['hr']), axis=1)\n",
        "\n",
        "\n",
        "hour.groupby(['periodo'])['cnt'].agg('sum').plot.bar()\n"
      ],
      "execution_count": null,
      "outputs": [
        {
          "output_type": "execute_result",
          "data": {
            "text/plain": [
              "<matplotlib.axes._subplots.AxesSubplot at 0x7f2988220310>"
            ]
          },
          "metadata": {
            "tags": []
          },
          "execution_count": 141
        },
        {
          "output_type": "display_data",
          "data": {
            "image/png": "[encoded data removed]",
            "text/plain": [
              "<Figure size 432x288 with 1 Axes>"
            ]
          },
          "metadata": {
            "tags": [],
            "needs_background": "light"
          }
        }
      ]
    },
    {
      "cell_type": "markdown",
      "metadata": {
        "id": "__xA5S6Mbf5V"
      },
      "source": [
        "### Qual a influência do clima na demanda por bicicletas?"
      ]
    },
    {
      "cell_type": "code",
      "metadata": {
        "colab": {
          "base_uri": "https://localhost:8080/",
          "height": 333
        },
        "id": "kRthKZol3mGU",
        "outputId": "ecbbce78-9021-48c7-b06f-9b3c40977565"
      },
      "source": [
        "\n",
        "\n",
        "def clima(temp):\n",
        "  temperatura_real = temp * 41\n",
        "  if temperatura_real < 15:\n",
        "    return \"frio\"\n",
        "  else:\n",
        "    return \"quente\"\n",
        "\n",
        "hour['clima'] = hour.apply(lambda x: clima(x['temp']), axis=1)\n",
        "\n",
        "\n",
        "hour.groupby(['clima'])['cnt'].agg('sum').plot.bar();\n"
      ],
      "execution_count": null,
      "outputs": [
        {
          "output_type": "execute_result",
          "data": {
            "text/plain": [
              "<matplotlib.axes._subplots.AxesSubplot at 0x7f29881d3b90>"
            ]
          },
          "metadata": {
            "tags": []
          },
          "execution_count": 142
        },
        {
          "output_type": "display_data",
          "data": {
            "image/png": "[encoded data removed]",
            "text/plain": [
              "<Figure size 432x288 with 1 Axes>"
            ]
          },
          "metadata": {
            "tags": [],
            "needs_background": "light"
          }
        }
      ]
    }
  ]
}